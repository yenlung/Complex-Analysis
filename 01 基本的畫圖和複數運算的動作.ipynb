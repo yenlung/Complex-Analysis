{
 "cells": [
  {
   "cell_type": "markdown",
   "metadata": {},
   "source": [
    "## 1. Python 複數 101\n",
    "\n",
    "Python 內含複數資料型態, 不過一點點小悲傷的是, 如果我們要打入\n",
    "\n",
    "$$1 + 2i$$\n",
    "\n",
    "需要用\n",
    "\n",
    "    1 + 2j\n",
    "    \n",
    "為什麼是用 `j` 不是 `i` 呢? 原因是因為 `i` 在程式語言有崇高的地位... 嗯, 不過就是最常被用來當迴圈...\n",
    "\n",
    "我們可以這麼定義:"
   ]
  },
  {
   "cell_type": "code",
   "execution_count": null,
   "metadata": {},
   "outputs": [],
   "source": [
    "z = 1 + 2j"
   ]
  },
  {
   "cell_type": "markdown",
   "metadata": {},
   "source": [
    "再設第二個數字。"
   ]
  },
  {
   "cell_type": "code",
   "execution_count": null,
   "metadata": {},
   "outputs": [],
   "source": [
    "z2 = 8 + 9j"
   ]
  },
  {
   "cell_type": "markdown",
   "metadata": {},
   "source": [
    "來相乘一下。"
   ]
  },
  {
   "cell_type": "code",
   "execution_count": null,
   "metadata": {},
   "outputs": [],
   "source": [
    "z*z2"
   ]
  },
  {
   "cell_type": "markdown",
   "metadata": {},
   "source": [
    "你可以檢查一下, 這是不是正確答案!\n",
    "\n",
    "複數另一個很重要的是, 我們常要看實部和虛部是多少。我們現在就來看看。"
   ]
  },
  {
   "cell_type": "code",
   "execution_count": null,
   "metadata": {},
   "outputs": [],
   "source": [
    "z.real"
   ]
  },
  {
   "cell_type": "code",
   "execution_count": null,
   "metadata": {},
   "outputs": [],
   "source": [
    "z.imag"
   ]
  },
  {
   "cell_type": "markdown",
   "metadata": {},
   "source": [
    "## 2. 基本套件讀入\n",
    "\n",
    "幾乎每次都需要讀入的套件。\n",
    "\n",
    "其中:\n",
    "\n",
    "* `%matplotlib inline` 其實是 Jupyter 的「魔術指令」, 是要讓畫出的圖直接顯示出來。\n",
    "* `numpy` 是數值計算的標準王牌套件, `np` 是大家習慣的暱稱。\n",
    "* `matplotlib` 是畫圖標準套件, 要的是 `matplotlib.pyplot`, 用 `plt` 做暱稱。"
   ]
  },
  {
   "cell_type": "code",
   "execution_count": null,
   "metadata": {},
   "outputs": [],
   "source": [
    "%matplotlib inline\n",
    "\n",
    "import numpy as np\n",
    "import matplotlib.pyplot as plt"
   ]
  },
  {
   "cell_type": "markdown",
   "metadata": {},
   "source": [
    "`numpy` 真的什麼重要數學相關的東西都有, 比如說 π。"
   ]
  },
  {
   "cell_type": "code",
   "execution_count": null,
   "metadata": {},
   "outputs": [],
   "source": [
    "np.pi"
   ]
  },
  {
   "cell_type": "markdown",
   "metadata": {},
   "source": [
    "我們可以設個變數來記這個數字, 甚至可以用中文!"
   ]
  },
  {
   "cell_type": "code",
   "execution_count": null,
   "metadata": {},
   "outputs": [],
   "source": [
    "圓周率 = np.pi"
   ]
  },
  {
   "cell_type": "code",
   "execution_count": null,
   "metadata": {},
   "outputs": [],
   "source": [
    "圓周率 * 2"
   ]
  },
  {
   "cell_type": "markdown",
   "metadata": {},
   "source": [
    "但是這用來也太麻煩了。事實上我們也可以用希臘字母來當變數名稱! 可是要怎麼打呢? 答案是用標準 $\\LaTeX$ 語法:\n",
    "\n",
    "    \\pi\n",
    "    \n",
    "接著按 `TAB` 鍵... WOW, 神奇的事發生了!"
   ]
  },
  {
   "cell_type": "code",
   "execution_count": null,
   "metadata": {},
   "outputs": [],
   "source": [
    "π = np.pi"
   ]
  },
  {
   "cell_type": "code",
   "execution_count": null,
   "metadata": {},
   "outputs": [],
   "source": [
    "π"
   ]
  },
  {
   "cell_type": "markdown",
   "metadata": {},
   "source": [
    "## 3. 設一個複數的小事\n",
    "\n",
    "注意我們要設 `z` 為 $2 + \\pi i$, 你可能會覺得是\n",
    "\n",
    "    2 + πj\n",
    "    \n",
    "結果不是! 再試試\n",
    "\n",
    "    2 + π*j\n",
    "    \n",
    "居然也不是!! 結果正確的令法是:\n",
    "\n",
    "    2 + π * 1j"
   ]
  },
  {
   "cell_type": "code",
   "execution_count": null,
   "metadata": {},
   "outputs": [],
   "source": [
    "z = 2 + π*1j"
   ]
  },
  {
   "cell_type": "markdown",
   "metadata": {},
   "source": [
    "更一般要令 $x + iy$ 是這樣:"
   ]
  },
  {
   "cell_type": "code",
   "execution_count": null,
   "metadata": {},
   "outputs": [],
   "source": [
    "x = 3\n",
    "y = 5"
   ]
  },
  {
   "cell_type": "code",
   "execution_count": null,
   "metadata": {},
   "outputs": [],
   "source": [
    "z = x + y * 1j"
   ]
  },
  {
   "cell_type": "code",
   "execution_count": null,
   "metadata": {},
   "outputs": [],
   "source": [
    "z"
   ]
  },
  {
   "cell_type": "markdown",
   "metadata": {},
   "source": [
    "## 4. 畫圖 101\n",
    "\n",
    "在 Python 中, 一個基本的資料型態就是一串資料, 比方說一串的數據:\n",
    "\n",
    "    [3, 7, -2, 6]\n",
    "    \n",
    "這叫 `list` (串列)。要畫出一串資料, 就是像這樣:"
   ]
  },
  {
   "cell_type": "code",
   "execution_count": null,
   "metadata": {},
   "outputs": [],
   "source": [
    "plt.plot([3, 7, -2, 6])"
   ]
  },
  {
   "cell_type": "markdown",
   "metadata": {},
   "source": [
    "看得出什麼意思嗎? 原來是畫出\n",
    "\n",
    "    (0,3), (1,7), (2,-2), (3,6)\n",
    "    \n",
    "這幾個點, 然後連起來! 也就是說, 我們給的\n",
    "\n",
    "    [3, 7, -2, 6]\n",
    "    \n",
    "是這些點的 y 座標, 而 Python 自動補了 [0, 1, 2, 3] 當 x 座標。\n",
    "\n",
    "一般的情況, 我們可以給 x, y 的座標, 分別是一個 `list`, 然後用\n",
    "\n",
    "    plt.plot(x, y)\n",
    "    \n",
    "畫出來。"
   ]
  },
  {
   "cell_type": "code",
   "execution_count": null,
   "metadata": {},
   "outputs": [],
   "source": [
    "x = [1, 2, 3, 4]\n",
    "y = [3, 7, -2, 6]"
   ]
  },
  {
   "cell_type": "code",
   "execution_count": null,
   "metadata": {},
   "outputs": [],
   "source": [
    "plt.plot(x, y)"
   ]
  },
  {
   "cell_type": "markdown",
   "metadata": {},
   "source": [
    "畫圖目前先記得兩種就好! 除了 `plt.plot`, 我們再來學 `plt.scatter`, 用法基本上是一様的, 只是現在只會畫出點 (散布圖)。"
   ]
  },
  {
   "cell_type": "code",
   "execution_count": null,
   "metadata": {},
   "outputs": [],
   "source": [
    "plt.scatter(x, y)"
   ]
  },
  {
   "cell_type": "markdown",
   "metadata": {},
   "source": [
    "## 5. 畫個函數\n",
    "\n",
    "電腦畫函數基本上就是描點法。比如說我們想畫一個\n",
    "\n",
    "$$f(x) = | x |$$\n",
    "\n",
    "這樣的函數。我們先決定幾件事:\n",
    "\n",
    "* x 的範圍 (例如說 $x\\in [-1,1]$)\n",
    "* 要描幾個點 (例如 100 個點)\n",
    "\n",
    "要用的指令是 `np.linspace`:"
   ]
  },
  {
   "cell_type": "code",
   "execution_count": null,
   "metadata": {},
   "outputs": [],
   "source": [
    "x = np.linspace(-1, 1, 100)"
   ]
  },
  {
   "cell_type": "code",
   "execution_count": null,
   "metadata": {},
   "outputs": [],
   "source": [
    "len(x)"
   ]
  },
  {
   "cell_type": "code",
   "execution_count": null,
   "metadata": {},
   "outputs": [],
   "source": [
    "y = np.abs(x)"
   ]
  },
  {
   "cell_type": "code",
   "execution_count": null,
   "metadata": {},
   "outputs": [],
   "source": [
    "len(y)"
   ]
  },
  {
   "cell_type": "markdown",
   "metadata": {},
   "source": [
    "最後一様用 `plt.plot` 畫出來。"
   ]
  },
  {
   "cell_type": "code",
   "execution_count": null,
   "metadata": {},
   "outputs": [],
   "source": [
    "plt.plot(x, y)"
   ]
  },
  {
   "cell_type": "markdown",
   "metadata": {},
   "source": [
    "## 6. 參數式畫圖\n",
    "\n",
    "我們先來畫個最簡單的圓, 我們知道參數式如下:\n",
    "\n",
    "$$\\begin{align*}\n",
    "x &= r\\cdot \\cos(\\theta)\\\\\n",
    "y &= r\\cdot \\sin(\\theta)\n",
    "\\end{align*}$$\n",
    "\n",
    "其中 $0 \\leq \\theta \\leq 2\\pi$, 我們設 $r=1$。"
   ]
  },
  {
   "cell_type": "code",
   "execution_count": null,
   "metadata": {},
   "outputs": [],
   "source": [
    "θ = np.linspace(0, 2*π, 500)"
   ]
  },
  {
   "cell_type": "code",
   "execution_count": null,
   "metadata": {},
   "outputs": [],
   "source": [
    "r = 1\n",
    "\n",
    "x = r * np.cos(θ)\n",
    "y = r * np.sin(θ)"
   ]
  },
  {
   "cell_type": "code",
   "execution_count": null,
   "metadata": {},
   "outputs": [],
   "source": [
    "plt.plot(x, y)"
   ]
  },
  {
   "cell_type": "markdown",
   "metadata": {},
   "source": [
    "耶, 這不太圓, 我們需要調整一下!"
   ]
  },
  {
   "cell_type": "code",
   "execution_count": null,
   "metadata": {},
   "outputs": [],
   "source": [
    "ax = plt.gca()\n",
    "\n",
    "ax.set_aspect('equal')\n",
    "plt.plot(x, y)"
   ]
  },
  {
   "cell_type": "markdown",
   "metadata": {},
   "source": [
    "當然也可以來個有感情的..."
   ]
  },
  {
   "cell_type": "code",
   "execution_count": null,
   "metadata": {},
   "outputs": [],
   "source": [
    "r = 1 - np.sin(θ)\n",
    "\n",
    "x = r * np.cos(θ)\n",
    "y = r * np.sin(θ)"
   ]
  },
  {
   "cell_type": "code",
   "execution_count": null,
   "metadata": {},
   "outputs": [],
   "source": [
    "ax = plt.gca()\n",
    "\n",
    "ax.set_aspect('equal')\n",
    "plt.plot(x, y, c='r')"
   ]
  },
  {
   "cell_type": "markdown",
   "metadata": {},
   "source": [
    "## 7. 第一次作業\n",
    "\n",
    "我們先找一個「動作」複數 $z$, 不斷作用在某個點 $p$ 上, 會得到一個數列:\n",
    "\n",
    "$$z, zp, z(zp), \\ldots$$\n",
    "\n",
    "把這些點連起來看看是什麼? 你有辦法解釋為什麼會是這樣嗎?\n",
    "\n",
    "我們先來看個例子。"
   ]
  },
  {
   "cell_type": "code",
   "execution_count": null,
   "metadata": {},
   "outputs": [],
   "source": [
    "z = 0.5 + 0.5j"
   ]
  },
  {
   "cell_type": "code",
   "execution_count": null,
   "metadata": {},
   "outputs": [],
   "source": [
    "p = 2 + 3j"
   ]
  },
  {
   "cell_type": "code",
   "execution_count": null,
   "metadata": {},
   "outputs": [],
   "source": [
    "points = [p]"
   ]
  },
  {
   "cell_type": "code",
   "execution_count": null,
   "metadata": {},
   "outputs": [],
   "source": [
    "for i in range(100):\n",
    "    p = z*p\n",
    "    points.append(p)"
   ]
  },
  {
   "cell_type": "code",
   "execution_count": null,
   "metadata": {},
   "outputs": [],
   "source": [
    "x = np.real(points)\n",
    "y = np.imag(points)\n",
    "\n",
    "ax = plt.gca()\n",
    "ax.set_aspect('equal')\n",
    "plt.plot(x, y)"
   ]
  },
  {
   "cell_type": "markdown",
   "metadata": {},
   "source": [
    "好像挺有趣的! 請大家自己做例子, 也許可以設計更有趣的問題!"
   ]
  },
  {
   "cell_type": "markdown",
   "metadata": {},
   "source": [
    "## 8. matplotlib notebook\n",
    "\n",
    "<span style=\"color:red;\">***</span> 請大家做 `Kernel > Restart` 這個動作!\n",
    "\n",
    "我們來看看 `%matplotlib notebook` 和我們慣用的 `%matplotlib inline` 有什麼不同!"
   ]
  },
  {
   "cell_type": "code",
   "execution_count": null,
   "metadata": {},
   "outputs": [],
   "source": [
    "%matplotlib notebook\n",
    "\n",
    "import numpy as np\n",
    "import matplotlib.pyplot as plt"
   ]
  },
  {
   "cell_type": "code",
   "execution_count": null,
   "metadata": {},
   "outputs": [],
   "source": [
    "z = 0.5 + 0.5j\n",
    "p = 2 + 3j\n",
    "points = [p]"
   ]
  },
  {
   "cell_type": "code",
   "execution_count": null,
   "metadata": {},
   "outputs": [],
   "source": [
    "for i in range(100):\n",
    "    p = z*p\n",
    "    points.append(p)"
   ]
  },
  {
   "cell_type": "code",
   "execution_count": null,
   "metadata": {},
   "outputs": [],
   "source": [
    "x = np.real(points)\n",
    "y = np.imag(points)\n",
    "\n",
    "ax = plt.gca()\n",
    "ax.set_aspect('equal')\n",
    "plt.plot(x, y)"
   ]
  },
  {
   "cell_type": "markdown",
   "metadata": {},
   "source": [
    "## 9. 回復原狀、互動\n",
    "\n",
    "<span style=\"color:red;\">***</span> 再一次, 請大家做 `Kernel > Restart` 這個動作!"
   ]
  },
  {
   "cell_type": "code",
   "execution_count": 1,
   "metadata": {},
   "outputs": [],
   "source": [
    "%matplotlib inline\n",
    "\n",
    "import numpy as np\n",
    "import matplotlib.pyplot as plt"
   ]
  },
  {
   "cell_type": "markdown",
   "metadata": {},
   "source": [
    "剛剛做的事, 我們寫咸一個函數, 於是我們可以方便的改不同的 $z$ 來試驗!"
   ]
  },
  {
   "cell_type": "code",
   "execution_count": 2,
   "metadata": {},
   "outputs": [],
   "source": [
    "def myplot(a, b):\n",
    "    a = float(a)\n",
    "    b = float(b)\n",
    "    z = a + b * 1j\n",
    "    \n",
    "    p = 2 + 3j\n",
    "    \n",
    "    points = [p]\n",
    "    for i in range(100):\n",
    "        p = z*p\n",
    "        points.append(p)\n",
    "        \n",
    "    ax = plt.gca()\n",
    "    ax.set_aspect('equal')\n",
    "    \n",
    "    plt.plot(np.real(points), np.imag(points))\n",
    "        "
   ]
  },
  {
   "cell_type": "markdown",
   "metadata": {},
   "source": [
    "畫我們剛剛的例子, 即 $z = 0.5 + 0.5i$。"
   ]
  },
  {
   "cell_type": "code",
   "execution_count": 3,
   "metadata": {},
   "outputs": [
    {
     "data": {
      "image/png": "[encoded data removed]",
      "text/plain": [
       "<Figure size 432x288 with 1 Axes>"
      ]
     },
     "metadata": {
      "needs_background": "light"
     },
     "output_type": "display_data"
    },
    {
     "data": {
      "image/png": "[encoded data removed]",
      "text/plain": [
       "<Figure size 432x288 with 1 Axes>"
      ]
     },
     "metadata": {
      "needs_background": "light"
     },
     "output_type": "display_data"
    }
   ],
   "source": [
    "myplot(0.5, 0.5)"
   ]
  },
  {
   "cell_type": "markdown",
   "metadata": {},
   "source": [
    "用互躯來試試!"
   ]
  },
  {
   "cell_type": "code",
   "execution_count": 4,
   "metadata": {},
   "outputs": [],
   "source": [
    "from ipywidgets import interact"
   ]
  },
  {
   "cell_type": "markdown",
   "metadata": {},
   "source": [
    "#### 數值淜枰"
   ]
  },
  {
   "cell_type": "code",
   "execution_count": 5,
   "metadata": {},
   "outputs": [
    {
     "data": {
      "application/vnd.jupyter.widget-view+json": {
       "model_id": "36eac7083ef14bbd923c3e9e6af9e627",
       "version_major": 2,
       "version_minor": 0
      },
      "text/plain": [
       "interactive(children=(FloatSlider(value=1.0, description='a', max=2.0), FloatSlider(value=1.0, description='b'…"
      ]
     },
     "metadata": {},
     "output_type": "display_data"
    },
    {
     "data": {
      "application/vnd.jupyter.widget-view+json": {
       "model_id": "36eac7083ef14bbd923c3e9e6af9e627",
       "version_major": 2,
       "version_minor": 0
      },
      "text/plain": [
       "interactive(children=(FloatSlider(value=1.0, description='a', max=2.0), FloatSlider(value=1.0, description='b'…"
      ]
     },
     "metadata": {},
     "output_type": "display_data"
    },
    {
     "data": {
      "text/plain": [
       "<function __main__.myplot(a, b)>"
      ]
     },
     "execution_count": 5,
     "metadata": {},
     "output_type": "execute_result"
    },
    {
     "data": {
      "text/plain": [
       "<function __main__.myplot(a, b)>"
      ]
     },
     "execution_count": 5,
     "metadata": {},
     "output_type": "execute_result"
    },
    {
     "data": {
      "image/png": "[encoded data removed]",
      "text/plain": [
       "<Figure size 432x288 with 1 Axes>"
      ]
     },
     "metadata": {
      "needs_background": "light"
     },
     "output_type": "display_data"
    }
   ],
   "source": [
    "interact(myplot, a=(0., 2.), b=(0.,2.))"
   ]
  },
  {
   "cell_type": "markdown",
   "metadata": {},
   "source": [
    "#### 文字桎輸入"
   ]
  },
  {
   "cell_type": "code",
   "execution_count": 6,
   "metadata": {},
   "outputs": [],
   "source": [
    "from ipywidgets import interact_manual"
   ]
  },
  {
   "cell_type": "code",
   "execution_count": 7,
   "metadata": {},
   "outputs": [
    {
     "data": {
      "application/vnd.jupyter.widget-view+json": {
       "model_id": "3c893bfa4d43471ba8a00d5b1ec9fab0",
       "version_major": 2,
       "version_minor": 0
      },
      "text/plain": [
       "interactive(children=(Text(value='實部', description='a'), Text(value='虛部', description='b'), Button(description…"
      ]
     },
     "metadata": {},
     "output_type": "display_data"
    },
    {
     "data": {
      "text/plain": [
       "<function __main__.myplot(a, b)>"
      ]
     },
     "execution_count": 7,
     "metadata": {},
     "output_type": "execute_result"
    },
    {
     "data": {
      "application/vnd.jupyter.widget-view+json": {
       "model_id": "3c893bfa4d43471ba8a00d5b1ec9fab0",
       "version_major": 2,
       "version_minor": 0
      },
      "text/plain": [
       "interactive(children=(Text(value='實部', description='a'), Text(value='虛部', description='b'), Button(description…"
      ]
     },
     "metadata": {},
     "output_type": "display_data"
    },
    {
     "data": {
      "text/plain": [
       "<function __main__.myplot(a, b)>"
      ]
     },
     "execution_count": 7,
     "metadata": {},
     "output_type": "execute_result"
    }
   ],
   "source": [
    "interact_manual(myplot, a='實部', b='虛部')"
   ]
  }
 ],
 "metadata": {
  "kernelspec": {
   "display_name": "Python 3",
   "language": "python",
   "name": "python3"
  },
  "language_info": {
   "codemirror_mode": {
    "name": "ipython",
    "version": 3
   },
   "file_extension": ".py",
   "mimetype": "text/x-python",
   "name": "python",
   "nbconvert_exporter": "python",
   "pygments_lexer": "ipython3",
   "version": "3.7.3"
  }
 },
 "nbformat": 4,
 "nbformat_minor": 2
}
